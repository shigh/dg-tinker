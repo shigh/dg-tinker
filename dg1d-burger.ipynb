{
 "cells": [
  {
   "cell_type": "code",
   "execution_count": null,
   "metadata": {
    "collapsed": true
   },
   "outputs": [],
   "source": [
    "%matplotlib inline"
   ]
  },
  {
   "cell_type": "code",
   "execution_count": null,
   "metadata": {
    "collapsed": true
   },
   "outputs": [],
   "source": [
    "import numpy as np\n",
    "from numpy import newaxis\n",
    "import scipy.sparse as sps\n",
    "from scipy.sparse.linalg import spsolve\n",
    "import matplotlib.pyplot as plt"
   ]
  },
  {
   "cell_type": "code",
   "execution_count": null,
   "metadata": {
    "collapsed": false
   },
   "outputs": [],
   "source": [
    "from pyfem.topo import Interval\n",
    "from pyfem.poly import gll_points\n",
    "from pyfem.sem import SEMhat\n",
    "from pyfem.poly import eval_lagrange_d0 as eval_phi1d"
   ]
  },
  {
   "cell_type": "code",
   "execution_count": null,
   "metadata": {
    "collapsed": false
   },
   "outputs": [],
   "source": [
    "from poly import eval_P"
   ]
  },
  {
   "cell_type": "code",
   "execution_count": null,
   "metadata": {
    "collapsed": false
   },
   "outputs": [],
   "source": [
    "order = 1\n",
    "semh = SEMhat(order)\n",
    "\n",
    "N = 100\n",
    "n_dofs = (order+1)*N"
   ]
  },
  {
   "cell_type": "code",
   "execution_count": null,
   "metadata": {
    "collapsed": false
   },
   "outputs": [],
   "source": [
    "L = 2.0\n",
    "\n",
    "vertices  = np.linspace(0, L, N+1)\n",
    "EtoV      = np.zeros((N, 2), dtype=np.int)\n",
    "EtoV[:,0] = np.arange(N)\n",
    "EtoV[:,1] = np.arange(N)+1\n",
    "\n",
    "topo  = Interval()\n",
    "xq = topo.ref_to_phys(vertices[EtoV], semh.xgll)\n",
    "jacb_det = topo.calc_jacb(vertices[EtoV])[0]\n",
    "\n",
    "# Restriction operator\n",
    "# Removes contribution to dirch points from flux operators\n",
    "R = sps.eye(n_dofs).tocsr()\n",
    "R[0,0] = R[-1,-1] = 0.0"
   ]
  },
  {
   "cell_type": "code",
   "execution_count": null,
   "metadata": {
    "collapsed": false
   },
   "outputs": [],
   "source": [
    "h = xq[0,-1]-xq[0,0]"
   ]
  },
  {
   "cell_type": "code",
   "execution_count": null,
   "metadata": {
    "collapsed": false
   },
   "outputs": [],
   "source": [
    "# Make elem to dof map\n",
    "EtoD = np.arange(N*(order+1))\n",
    "EtoD = EtoD.reshape((N, -1))\n",
    "\n",
    "dof_phys = xq.ravel()\n",
    "\n",
    "# Averaging operator\n",
    "rows = EtoD[:,[0,-1]].ravel()\n",
    "cols = EtoV.ravel()\n",
    "vals = np.ones_like(cols)\n",
    "\n",
    "FtoD = sps.coo_matrix((vals, (rows, cols))).tocsr()\n",
    "AVG = FtoD.dot(FtoD.T)/2.0\n",
    "\n",
    "# Extract face DOFS\n",
    "vals = np.ones(len(rows))\n",
    "FD = sps.coo_matrix((vals, (rows, rows))).tocsr()\n",
    "# Set face signs\n",
    "vals[::2] = -1\n",
    "SD = sps.coo_matrix((vals, (rows, rows))).tocsr()\n",
    "\n",
    "# Jump operator\n",
    "JUMP = FtoD.dot(SD.dot(FtoD).T)"
   ]
  },
  {
   "cell_type": "code",
   "execution_count": null,
   "metadata": {
    "collapsed": false
   },
   "outputs": [],
   "source": [
    "# Build Advection operator\n",
    "C = sps.kron(sps.eye(N), semh.Ch).tocsr()\n",
    "\n",
    "# Build full elemental mass matrix\n",
    "x, w = topo.get_quadrature(order+1)\n",
    "P = eval_phi1d(semh.xgll, x).T\n",
    "G = sps.dia_matrix((w, 0), shape=(len(x), len(x)))\n",
    "Bf = P.T.dot(G.dot(P))*jacb_det\n",
    "Bfinv = np.linalg.inv(Bf)\n",
    "\n",
    "# Using trick from book\n",
    "V    = eval_P(order, semh.xgll).T\n",
    "Vinv = np.linalg.inv(V)\n",
    "Minv = V.dot(V.T)/jacb_det\n",
    "Binv = sps.kron(sps.eye(N), Minv).tocsr()\n",
    "\n",
    "print np.max(np.abs(Minv-Bfinv))\n",
    "print np.max(np.abs(Minv.dot(Bf)-np.eye(Bf.shape[0])))\n",
    "print np.max(np.abs(Bfinv.dot(Bf)-np.eye(Bf.shape[0])))"
   ]
  },
  {
   "cell_type": "code",
   "execution_count": null,
   "metadata": {
    "collapsed": false
   },
   "outputs": [],
   "source": [
    "T  = 0.4\n",
    "dt = 0.001\n",
    "nt = int(round(T/dt))\n",
    "T, dt, nt"
   ]
  },
  {
   "cell_type": "code",
   "execution_count": null,
   "metadata": {
    "collapsed": false
   },
   "outputs": [],
   "source": [
    "# Problem setup\n",
    "\n",
    "def calc_flux(u):\n",
    "    return u*u/2.0\n",
    "\n",
    "ul = 2.0\n",
    "ur = 1.0\n",
    "s  = (calc_flux(ur)-calc_flux(ul))/(ur-ul)\n",
    "\n",
    "u0 = np.ones_like(dof_phys)*ur\n",
    "u0[dof_phys<=L/2.0] = ul\n",
    "\n",
    "ue = np.ones_like(u0)*ur\n",
    "ue[dof_phys<=L/2.0+s*dt*nt] = ul\n",
    "\n",
    "s, s*T+L/2.0"
   ]
  },
  {
   "cell_type": "code",
   "execution_count": null,
   "metadata": {
    "collapsed": false
   },
   "outputs": [],
   "source": [
    "# Time stepping matrix\n",
    "lambda_max = s\n",
    "\n",
    "FLUX = AVG+(lambda_max/2.0)*JUMP\n",
    "F = Binv.dot(-C+R.dot(SD.dot(FD-FLUX)))\n",
    "\n",
    "# Filter\n",
    "ss = 10.0\n",
    "a  = 36.0\n",
    "eta = np.arange(order+1.0)/order\n",
    "SIG = sps.dia_matrix((np.exp(-a*eta**ss),0),\n",
    "                    shape=V.shape)\n",
    "FILTER = sps.kron(sps.eye(N), V.dot(SIG.dot(Vinv)))\n",
    "\n",
    "# Timestep on u'=g(u)\n",
    "#g = lambda u: FILTER.dot(F.dot(calc_flux(u)))\n",
    "g = lambda u: F.dot(calc_flux(u))"
   ]
  },
  {
   "cell_type": "code",
   "execution_count": null,
   "metadata": {
    "collapsed": true
   },
   "outputs": [],
   "source": [
    "# Slope limiter\n",
    "x0 = (xq[:,0]+xq[:,-1])/2.0"
   ]
  },
  {
   "cell_type": "code",
   "execution_count": null,
   "metadata": {
    "collapsed": false
   },
   "outputs": [],
   "source": [
    "nv = np.arange(order+1)\n",
    "gamma = 2.0/(2.0*nv+1)\n",
    "G = sps.dia_matrix((1.0/np.sqrt(gamma),0),\n",
    "                  shape=Vinv.shape)\n",
    "\n",
    "G = G.dot(Vinv)\n",
    "\n",
    "def minmod(a):\n",
    "    \n",
    "    l = a.shape[-1]\n",
    "    s = np.sum(np.sign(a))/l\n",
    "    if np.abs(s)==1:\n",
    "        return s*np.min(np.abs(a))\n",
    "    else:\n",
    "        return 0.0\n",
    "\n",
    "def slope_limit(u):\n",
    "    \n",
    "    us = u.reshape((-1,order+1)).T\n",
    "    avg, slope = G.dot(us)[[0,1]]\n",
    "    \n",
    "    u = u.reshape((-1,order+1))\n",
    "    for ielem in range(1,N-1):\n",
    "        m = minmod(slope[ielem-1:ielem+1])\n",
    "        u[ielem] = avg[ielem]+(xq[ielem]-x0[ielem])*m\n",
    "        "
   ]
  },
  {
   "cell_type": "code",
   "execution_count": null,
   "metadata": {
    "collapsed": false
   },
   "outputs": [],
   "source": [
    "# Integrate with RK4\n",
    "u  = u0.copy()\n",
    "\n",
    "for k in range(nt):\n",
    "        \n",
    "    k1 = g(u)\n",
    "    k2 = g(u+(dt/2.0)*k1)\n",
    "    k3 = g(u+(dt/2.0)*k2)\n",
    "    k4 = g(u+dt*k3)\n",
    "    \n",
    "    u = u+(dt/6.0)*(k1+2*k2+2*k3+k4)\n",
    "    u[[0,-1]] = u0[[0,-1]]\n",
    "    #u = FILTER.dot(u)\n",
    "    u[[0,-1]]  = u0[[0,-1]]\n",
    "\n",
    "    slope_limit(u)\n",
    "    \n",
    "u_rk4 = u\n",
    "np.max(np.abs(u-ue))"
   ]
  },
  {
   "cell_type": "code",
   "execution_count": null,
   "metadata": {
    "collapsed": false
   },
   "outputs": [],
   "source": [
    "plt.plot(dof_phys, u_rk4)\n",
    "plt.plot(dof_phys, ue, 'g--')"
   ]
  },
  {
   "cell_type": "code",
   "execution_count": null,
   "metadata": {
    "collapsed": true
   },
   "outputs": [],
   "source": []
  }
 ],
 "metadata": {
  "kernelspec": {
   "display_name": "Python 2",
   "language": "python",
   "name": "python2"
  },
  "language_info": {
   "codemirror_mode": {
    "name": "ipython",
    "version": 2
   },
   "file_extension": ".py",
   "mimetype": "text/x-python",
   "name": "python",
   "nbconvert_exporter": "python",
   "pygments_lexer": "ipython2",
   "version": "2.7.11+"
  }
 },
 "nbformat": 4,
 "nbformat_minor": 0
}
