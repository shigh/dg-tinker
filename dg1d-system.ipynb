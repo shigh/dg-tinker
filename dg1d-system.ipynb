{
 "cells": [
  {
   "cell_type": "code",
   "execution_count": null,
   "metadata": {
    "collapsed": false
   },
   "outputs": [],
   "source": [
    "%matplotlib inline\n",
    "%load_ext autoreload\n",
    "%autoreload 2"
   ]
  },
  {
   "cell_type": "code",
   "execution_count": null,
   "metadata": {
    "collapsed": true
   },
   "outputs": [],
   "source": [
    "import numpy as np\n",
    "from numpy import newaxis\n",
    "import scipy.sparse as sps\n",
    "from scipy.sparse.linalg import spsolve\n",
    "import matplotlib.pyplot as plt"
   ]
  },
  {
   "cell_type": "code",
   "execution_count": null,
   "metadata": {
    "collapsed": false
   },
   "outputs": [],
   "source": [
    "from fem import *\n",
    "eval_phi1d = eval_lagrange_d0"
   ]
  },
  {
   "cell_type": "code",
   "execution_count": null,
   "metadata": {
    "collapsed": false
   },
   "outputs": [],
   "source": [
    "from poly import eval_P\n",
    "from utils import minmod\n",
    "from dg import *"
   ]
  },
  {
   "cell_type": "markdown",
   "metadata": {},
   "source": [
    "## Build Mesh and Operators"
   ]
  },
  {
   "cell_type": "code",
   "execution_count": null,
   "metadata": {
    "collapsed": false
   },
   "outputs": [],
   "source": [
    "N = 1\n",
    "periodic = False\n",
    "#semh = SEMhat(order)\n",
    "\n",
    "K = 250\n",
    "n_dofs = (N+1)*K\n",
    "\n",
    "do_limiter = True\n",
    "do_filter  = False"
   ]
  },
  {
   "cell_type": "code",
   "execution_count": null,
   "metadata": {
    "collapsed": false
   },
   "outputs": [],
   "source": [
    "mesh = Mesh(K, N)"
   ]
  },
  {
   "cell_type": "markdown",
   "metadata": {},
   "source": [
    "## Problem Setup"
   ]
  },
  {
   "cell_type": "code",
   "execution_count": null,
   "metadata": {
    "collapsed": false
   },
   "outputs": [],
   "source": [
    "# Euler -- Sod's Shock Tube\n",
    "\n",
    "use_filter = False\n",
    "\n",
    "\n",
    "eqnset = EqnSetEuler()\n",
    "gamma = eqnset.gamma\n",
    "\n",
    "# Set up classical Sod's shock tube\n",
    "u0 = np.zeros((n_dofs, 3))\n",
    "u0[:,0] = 1.0\n",
    "u0[:,0][mesh.dof_phys>=0.5] = 0.125\n",
    "u0[:,1] = 0.0\n",
    "u0[:,2] = 1.0\n",
    "u0[:,2][mesh.dof_phys>=0.5] = 0.1\n",
    "u0[:,2] /= (gamma-1)\n",
    "ue = u0.copy()\n",
    "np.max(eqnset.calc_eig(u0))"
   ]
  },
  {
   "cell_type": "code",
   "execution_count": null,
   "metadata": {
    "collapsed": false
   },
   "outputs": [],
   "source": [
    "# # Isothermal Euler -- Gaussian bump\n",
    "\n",
    "# a = 1.0\n",
    "# def calc_flux(u):\n",
    "    \n",
    "#     f = np.zeros_like(u)\n",
    "#     f[:,0] = u[:,1]\n",
    "#     f[:,1] = u[:,1]**2/u[:,0]+a*a*u[:,0]\n",
    "#     f[:,2] = 0.0\n",
    "    \n",
    "#     return f\n",
    "\n",
    "# def calc_eig(u):\n",
    "#     return a+np.abs(u[:,1]/u[:,0])\n",
    "\n",
    "# u0 = np.zeros((n_dofs, 3))\n",
    "# aa  = 100.*(dof_phys-L/2.0)**2\n",
    "# u0[:,0] = 2.0+.2*np.exp(-aa)\n",
    "# ue = u0.copy()\n",
    "\n",
    "# np.max(calc_eig(u0))"
   ]
  },
  {
   "cell_type": "code",
   "execution_count": null,
   "metadata": {
    "collapsed": false
   },
   "outputs": [],
   "source": [
    "# # Shallow water -- Gaussian bump\n",
    "\n",
    "# a = 1.0\n",
    "# def calc_flux(u):\n",
    "    \n",
    "#     f = np.zeros_like(u)\n",
    "#     f[:,0] = u[:,1]\n",
    "#     f[:,1] = u[:,1]**2/u[:,0]+.5*a*u[:,0]**2\n",
    "#     f[:,2] = 0.0\n",
    "    \n",
    "#     return f\n",
    "\n",
    "# def calc_eig(u):\n",
    "#     return u[:,1]/u[:,0]+np.sqrt(a*u[:,0])\n",
    "\n",
    "# u0 = np.zeros((n_dofs, 3))\n",
    "# aa  = 100.*(dof_phys-L/2.0)**2\n",
    "# u0[:,0] = 1.0+.5*np.exp(-aa)\n",
    "# ue = u0.copy()\n",
    "\n",
    "# np.max(calc_eig(u0))"
   ]
  },
  {
   "cell_type": "code",
   "execution_count": null,
   "metadata": {
    "collapsed": false
   },
   "outputs": [],
   "source": [
    "# # Burger -- Simple Shock\n",
    "\n",
    "# def calc_flux(u):\n",
    "    \n",
    "#     return u*u/2.0\n",
    "\n",
    "\n",
    "# def calc_eig(u):\n",
    "\n",
    "#     return np.abs(u[:,0])\n",
    "\n",
    "# ul = 2.0\n",
    "# ur = 1.0\n",
    "# s  = (calc_flux(ur)-calc_flux(ul))/(ur-ul)\n",
    "\n",
    "# u0 = np.ones((n_dofs, 3))*ur\n",
    "# u0[dof_phys<=L/2.0,:] = ul\n",
    "\n",
    "# # ue = np.ones_like(u0)*ur\n",
    "# # ue[dof_phys<=L/2.0+s*dt*nt,:] = ul\n",
    "# ue = u0.copy()"
   ]
  },
  {
   "cell_type": "code",
   "execution_count": null,
   "metadata": {
    "collapsed": false
   },
   "outputs": [],
   "source": [
    "# # Linear Advection -- Gaussian bump\n",
    "\n",
    "# a = -2.0\n",
    "# def calc_flux(u):\n",
    "#     return a*u\n",
    "\n",
    "# def calc_eig(u):\n",
    "#     return np.abs(a)\n",
    "\n",
    "# u0 = np.zeros((n_dofs, 3))\n",
    "# aa  = 100.*(dof_phys-L/2.0)**2\n",
    "# u0[:,0] = np.exp(-aa)\n",
    "# ue = u0.copy()\n",
    "\n",
    "# np.max(calc_eig(u0))"
   ]
  },
  {
   "cell_type": "markdown",
   "metadata": {},
   "source": [
    "## Slope Limiter"
   ]
  },
  {
   "cell_type": "code",
   "execution_count": null,
   "metadata": {
    "collapsed": false
   },
   "outputs": [],
   "source": [
    "# Slope limiter\n",
    "if do_limiter:\n",
    "    limiter = LimiterMUSCL(mesh)\n",
    "else:\n",
    "    limiter = LimiterNULL(mesh)\n",
    "    \n",
    "def set_bc(u):\n",
    "    if not periodic:\n",
    "        u[[0,-1],:] = u0[[0,-1],:]"
   ]
  },
  {
   "cell_type": "markdown",
   "metadata": {},
   "source": [
    "## Filter"
   ]
  },
  {
   "cell_type": "code",
   "execution_count": null,
   "metadata": {
    "collapsed": false
   },
   "outputs": [],
   "source": [
    "# Filter\n",
    "ss = 10.0\n",
    "aa  = 36.0\n",
    "eta = np.arange(N+1.0)/N\n",
    "SIG = sps.dia_matrix((np.exp(-aa*eta**ss),0),\n",
    "                    shape=mesh.V.shape)\n",
    "FILTER = sps.kron(sps.eye(N), mesh.V.dot(SIG.dot(mesh.Vinv)))"
   ]
  },
  {
   "cell_type": "markdown",
   "metadata": {},
   "source": [
    "## Compute solution"
   ]
  },
  {
   "cell_type": "code",
   "execution_count": null,
   "metadata": {
    "collapsed": true
   },
   "outputs": [],
   "source": [
    "Tmax = 0.2\n",
    "CFL = 0.1"
   ]
  },
  {
   "cell_type": "code",
   "execution_count": null,
   "metadata": {
    "collapsed": false
   },
   "outputs": [],
   "source": [
    "# Time stepping\n",
    "f0 = eqnset.calc_flux(u0[[0,-1],:])\n",
    "def g(u):\n",
    "    f = eqnset.calc_flux(u)\n",
    "    c = np.max(eqnset.calc_eig(u))\n",
    "    AVG, JUMP = mesh.AVG, mesh.JUMP\n",
    "    Binv, C = mesh.Binv, mesh.C\n",
    "    SD, FD = mesh.SD, mesh.FD\n",
    "    \n",
    "    flux = AVG.dot(f)+c/2.0*JUMP.dot(u)\n",
    "    \n",
    "    if do_filter:\n",
    "        flux = FILTER.dot(flux)\n",
    "    if not periodic:\n",
    "        flux[[0,-1],:] = f0\n",
    "    \n",
    "    return Binv.dot(-C.dot(f)+SD.dot(FD.dot(f)-flux))\n",
    "    "
   ]
  },
  {
   "cell_type": "code",
   "execution_count": null,
   "metadata": {
    "collapsed": false
   },
   "outputs": [],
   "source": [
    "# Integrate with SSP-RK3\n",
    "dx = mesh.dx\n",
    "u  = u0.copy()\n",
    "f0 = eqnset.calc_flux(u0[[0,-1],:])\n",
    "lambda_max = np.max(eqnset.calc_eig(u0))\n",
    "    \n",
    "meig = []\n",
    "\n",
    "t = 0.0\n",
    "while t<Tmax:\n",
    "    \n",
    "    dt = CFL*dx/lambda_max\n",
    "    if t+dt>Tmax:\n",
    "        dt = Tmax-t\n",
    "    t += dt\n",
    "        \n",
    "    v1 = u+dt*g(u)\n",
    "    set_bc(v1)\n",
    "    limiter.apply_limiter(v1)\n",
    "    \n",
    "    v2 = .25*(3*u+v1+dt*g(v1))\n",
    "    set_bc(v2)\n",
    "    limiter.apply_limiter(v2)\n",
    "    \n",
    "    u = (u+2*v2+2*dt*g(v2))/3.0\n",
    "    set_bc(u)\n",
    "    limiter.apply_limiter(u)\n",
    "\n",
    "    meig += [np.max(eqnset.calc_eig(u))]\n",
    "\n",
    "meig = np.array(meig)"
   ]
  },
  {
   "cell_type": "code",
   "execution_count": null,
   "metadata": {
    "collapsed": false
   },
   "outputs": [],
   "source": [
    "k = -1 if periodic else n_dofs\n",
    "dof_phys = mesh.dof_phys\n",
    "plt.figure()\n",
    "plt.plot(dof_phys[:k], u[:,0][:k])\n",
    "plt.plot(dof_phys[:k], ue[:,0][:k], 'g--')\n",
    "plt.ylabel('$\\\\rho$', size=16)\n",
    "\n",
    "plt.figure()\n",
    "plt.plot(dof_phys[:k], (u[:,1]/u[:,0])[:k])\n",
    "plt.plot(dof_phys[:k], ue[:,1][:k], 'g--')\n",
    "plt.ylabel('$u$', size=16)\n",
    "\n",
    "# plt.figure()\n",
    "# plt.plot(dof_phys[:k], u[:,2][:k])\n",
    "# plt.plot(dof_phys[:k], ue[:,2][:k], 'g--')\n",
    "# plt.ylabel('$E$', size=16)"
   ]
  },
  {
   "cell_type": "code",
   "execution_count": null,
   "metadata": {
    "collapsed": false
   },
   "outputs": [],
   "source": [
    "np.sum(CFL*dx/meig)*np.max(meig)"
   ]
  },
  {
   "cell_type": "code",
   "execution_count": null,
   "metadata": {
    "collapsed": false
   },
   "outputs": [],
   "source": [
    "plt.plot(CFL*dx/meig)"
   ]
  },
  {
   "cell_type": "code",
   "execution_count": null,
   "metadata": {
    "collapsed": true
   },
   "outputs": [],
   "source": []
  }
 ],
 "metadata": {
  "kernelspec": {
   "display_name": "Python 2",
   "language": "python",
   "name": "python2"
  },
  "language_info": {
   "codemirror_mode": {
    "name": "ipython",
    "version": 2
   },
   "file_extension": ".py",
   "mimetype": "text/x-python",
   "name": "python",
   "nbconvert_exporter": "python",
   "pygments_lexer": "ipython2",
   "version": "2.7.12"
  }
 },
 "nbformat": 4,
 "nbformat_minor": 0
}
