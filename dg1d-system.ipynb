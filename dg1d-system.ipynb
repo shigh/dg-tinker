{
 "cells": [
  {
   "cell_type": "code",
   "execution_count": null,
   "metadata": {
    "collapsed": true
   },
   "outputs": [],
   "source": [
    "%matplotlib inline"
   ]
  },
  {
   "cell_type": "code",
   "execution_count": null,
   "metadata": {
    "collapsed": true
   },
   "outputs": [],
   "source": [
    "import numpy as np\n",
    "from numpy import newaxis\n",
    "import scipy.sparse as sps\n",
    "from scipy.sparse.linalg import spsolve\n",
    "import matplotlib.pyplot as plt"
   ]
  },
  {
   "cell_type": "code",
   "execution_count": null,
   "metadata": {
    "collapsed": false
   },
   "outputs": [],
   "source": [
    "from pyfem.topo import Interval\n",
    "from pyfem.poly import gll_points\n",
    "from pyfem.sem import SEMhat\n",
    "from pyfem.poly import eval_lagrange_d0 as eval_phi1d"
   ]
  },
  {
   "cell_type": "code",
   "execution_count": null,
   "metadata": {
    "collapsed": false
   },
   "outputs": [],
   "source": [
    "from poly import eval_P\n",
    "from utils import minmod"
   ]
  },
  {
   "cell_type": "markdown",
   "metadata": {},
   "source": [
    "## Build Mesh and Operators"
   ]
  },
  {
   "cell_type": "code",
   "execution_count": null,
   "metadata": {
    "collapsed": false
   },
   "outputs": [],
   "source": [
    "order = 1\n",
    "periodic = True\n",
    "semh = SEMhat(order)\n",
    "\n",
    "N = 100\n",
    "n_dofs = (order+1)*N"
   ]
  },
  {
   "cell_type": "code",
   "execution_count": null,
   "metadata": {
    "collapsed": false
   },
   "outputs": [],
   "source": [
    "L = 2.0*4\n",
    "\n",
    "vertices  = np.linspace(0, L, N+1)\n",
    "EtoV      = np.zeros((N, 2), dtype=np.int)\n",
    "EtoV[:,0] = np.arange(N)\n",
    "EtoV[:,1] = np.arange(N)+1\n",
    "if periodic:\n",
    "    EtoV[-1,-1] = EtoV[0,0]\n",
    "\n",
    "topo  = Interval()\n",
    "xq = topo.ref_to_phys(vertices[EtoV], semh.xgll)\n",
    "jacb_det = topo.calc_jacb(vertices[EtoV])[0]\n",
    "dx = np.min(xq[0,1:]-xq[0,:-1])\n",
    "\n",
    "# Restriction operator\n",
    "# Removes contribution to dirch points from flux operators\n",
    "R = sps.eye(n_dofs).tocsr()\n",
    "if not periodic:\n",
    "    R[0,0] = R[-1,-1] = 0.0"
   ]
  },
  {
   "cell_type": "code",
   "execution_count": null,
   "metadata": {
    "collapsed": false
   },
   "outputs": [],
   "source": [
    "# Make elem to dof map\n",
    "EtoD = np.arange(N*(order+1))\n",
    "EtoD = EtoD.reshape((N, -1))\n",
    "\n",
    "dof_phys = xq.ravel()\n",
    "\n",
    "# Averaging operator\n",
    "rows = EtoD[:,[0,-1]].ravel()\n",
    "cols = EtoV.ravel()\n",
    "vals = np.ones_like(cols)\n",
    "\n",
    "FtoD = sps.coo_matrix((vals, (rows, cols))).tocsr()\n",
    "AVG = FtoD.dot(FtoD.T)/2.0\n",
    "\n",
    "# Extract face DOFS\n",
    "vals = np.ones(len(rows))\n",
    "FD = sps.coo_matrix((vals, (rows, rows))).tocsr()\n",
    "# Set face signs\n",
    "vals[::2] = -1\n",
    "SD = sps.coo_matrix((vals, (rows, rows))).tocsr()\n",
    "\n",
    "# Jump operator\n",
    "JUMP = FtoD.dot(SD.dot(FtoD).T)"
   ]
  },
  {
   "cell_type": "code",
   "execution_count": null,
   "metadata": {
    "collapsed": false
   },
   "outputs": [],
   "source": [
    "# Build Advection operator\n",
    "C = sps.kron(sps.eye(N), semh.Ch).tocsr()\n",
    "\n",
    "# Build full elemental mass matrix\n",
    "x, w = topo.get_quadrature(order+1)\n",
    "P = eval_phi1d(semh.xgll, x).T\n",
    "G = sps.dia_matrix((w, 0), shape=(len(x), len(x)))\n",
    "Bf = P.T.dot(G.dot(P))*jacb_det\n",
    "Bfinv = np.linalg.inv(Bf)\n",
    "\n",
    "# Using trick from book\n",
    "V    = eval_P(order, semh.xgll).T\n",
    "Vinv = np.linalg.inv(V)\n",
    "Minv = V.dot(V.T)/jacb_det\n",
    "Binv = sps.kron(sps.eye(N), Minv).tocsr()"
   ]
  },
  {
   "cell_type": "markdown",
   "metadata": {},
   "source": [
    "## Problem Setup"
   ]
  },
  {
   "cell_type": "code",
   "execution_count": null,
   "metadata": {
    "collapsed": false
   },
   "outputs": [],
   "source": [
    "# # Euler -- Sod's Shock Tube\n",
    "\n",
    "# use_filter = False\n",
    "\n",
    "# gamma = 7.0/5.0\n",
    "# def calc_flux(u):\n",
    "    \n",
    "#     f = np.zeros_like(u)\n",
    "#     p = (gamma-1)*(u[:,2]-.5*u[:,1]**2/u[:,0])\n",
    "#     f[:,0] = u[:,1]\n",
    "#     f[:,1] = u[:,1]**2/u[:,0]+p\n",
    "#     f[:,2] = (u[:,2]+p)*u[:,1]/u[:,0]\n",
    "    \n",
    "#     return f\n",
    "\n",
    "# def calc_p(u):\n",
    "#     p = (gamma-1)*(u[:,2]-.5*u[:,1]**2/u[:,0])\n",
    "#     return p\n",
    "\n",
    "# def calc_eig(u):\n",
    "#     p = calc_p(u)\n",
    "#     eig  = np.abs(u[:,1]/u[:,0])\n",
    "#     eig += np.sqrt(gamma*p/u[:,0])\n",
    "#     return eig\n",
    "\n",
    "# # Set up classical Sod's shock tube\n",
    "# u0 = np.zeros((n_dofs, 3))\n",
    "# u0[:,0] = 1.0\n",
    "# u0[:,0][dof_phys>=0.5] = 0.125\n",
    "# u0[:,1] = 0.0\n",
    "# u0[:,2] = 1.0\n",
    "# u0[:,2][dof_phys>=0.5] = 0.1\n",
    "# u0[:,2] /= (gamma-1)\n",
    "\n",
    "# np.max(calc_eig(u0))"
   ]
  },
  {
   "cell_type": "code",
   "execution_count": null,
   "metadata": {
    "collapsed": false
   },
   "outputs": [],
   "source": [
    "# # Isothermal Euler -- Gaussian bump\n",
    "\n",
    "# a = 1.0\n",
    "# def calc_flux(u):\n",
    "    \n",
    "#     f = np.zeros_like(u)\n",
    "#     f[:,0] = u[:,1]\n",
    "#     f[:,1] = u[:,1]**2/u[:,0]+a*a*u[:,0]\n",
    "#     f[:,2] = 0.0\n",
    "    \n",
    "#     return f\n",
    "\n",
    "# def calc_eig(u):\n",
    "#     return a+np.abs(u[:,1]/u[:,0])\n",
    "\n",
    "# u0 = np.zeros((n_dofs, 3))\n",
    "# aa  = 100.*(dof_phys-L/2.0)**2\n",
    "# u0[:,0] = 2.0+.2*np.exp(-aa)\n",
    "# ue = u0.copy()\n",
    "\n",
    "# np.max(calc_eig(u0))"
   ]
  },
  {
   "cell_type": "code",
   "execution_count": null,
   "metadata": {
    "collapsed": false
   },
   "outputs": [],
   "source": [
    "# # Shallow water -- Gaussian bump\n",
    "\n",
    "# a = 1.0\n",
    "# def calc_flux(u):\n",
    "    \n",
    "#     f = np.zeros_like(u)\n",
    "#     f[:,0] = u[:,1]\n",
    "#     f[:,1] = u[:,1]**2/u[:,0]+.5*a*u[:,0]**2\n",
    "#     f[:,2] = 0.0\n",
    "    \n",
    "#     return f\n",
    "\n",
    "# def calc_eig(u):\n",
    "#     return u[:,1]/u[:,0]+np.sqrt(a*u[:,0])\n",
    "\n",
    "# u0 = np.zeros((n_dofs, 3))\n",
    "# aa  = 100.*(dof_phys-L/2.0)**2\n",
    "# u0[:,0] = 1.0+.5*np.exp(-aa)\n",
    "# ue = u0.copy()\n",
    "\n",
    "# np.max(calc_eig(u0))"
   ]
  },
  {
   "cell_type": "code",
   "execution_count": null,
   "metadata": {
    "collapsed": false
   },
   "outputs": [],
   "source": [
    "# # Burger -- Simple Shock\n",
    "\n",
    "# def calc_flux(u):\n",
    "    \n",
    "#     return u*u/2.0\n",
    "\n",
    "\n",
    "# def calc_eig(u):\n",
    "\n",
    "#     return np.abs(u[:,0])\n",
    "\n",
    "# ul = 2.0\n",
    "# ur = 1.0\n",
    "# s  = (calc_flux(ur)-calc_flux(ul))/(ur-ul)\n",
    "\n",
    "# # u0 = np.ones((n_dofs, 3))*ur\n",
    "# # u0[dof_phys<=L/2.0,:] = ul\n",
    "\n",
    "# # ue = np.ones_like(u0)*ur\n",
    "# # ue[dof_phys<=L/2.0+s*dt*nt,:] = ul\n",
    "\n",
    "# u0 = np.zeros((n_dofs, 3))\n",
    "# aa  = 100.*(dof_phys-L/4.0)**2\n",
    "# u0[:,0] = 1.0+1.0*np.exp(-aa)\n",
    "# ue = u0.copy()"
   ]
  },
  {
   "cell_type": "code",
   "execution_count": null,
   "metadata": {
    "collapsed": false
   },
   "outputs": [],
   "source": [
    "# Linear Advection -- Gaussian bump\n",
    "\n",
    "a = 1.0\n",
    "def calc_flux(u):\n",
    "    return a*u\n",
    "\n",
    "def calc_eig(u):\n",
    "    return a\n",
    "\n",
    "u0 = np.zeros((n_dofs, 3))\n",
    "aa  = 100.*(dof_phys-L/2.0)**2\n",
    "u0[:,0] = np.exp(-aa)\n",
    "ue = u0.copy()\n",
    "\n",
    "np.max(calc_eig(u0))"
   ]
  },
  {
   "cell_type": "markdown",
   "metadata": {},
   "source": [
    "## Compute solution"
   ]
  },
  {
   "cell_type": "code",
   "execution_count": null,
   "metadata": {
    "collapsed": true
   },
   "outputs": [],
   "source": [
    "# Slope limiter\n",
    "\n",
    "# elem midpoints\n",
    "x0 = (xq[:,0]+xq[:,-1])/2.0\n",
    "# elem widths (assuming uniform)\n",
    "h  = (xq[:,-1]-xq[:,0])[0]\n",
    "\n",
    "# Remove scale factors built into V\n",
    "# (b.c. of the def used in nodal-dg)\n",
    "nv  = np.arange(order+1)\n",
    "gam = 2.0/(2.0*nv+1)\n",
    "G = sps.dia_matrix((1.0/np.sqrt(gam),0),\n",
    "                  shape=Vinv.shape)\n",
    "G = G.dot(Vinv)\n",
    "    \n",
    "def slope_limit(U):\n",
    "    \"\"\" MUSCL Limiter\n",
    "    \"\"\"\n",
    "    \n",
    "    if not periodic:\n",
    "        u = U\n",
    "    else:\n",
    "        u = np.zeros(U.shape[0]+2*(order+1))\n",
    "        u[(order+1):-(order+1)] = U\n",
    "        \n",
    "    us = u.reshape((-1,order+1)).T\n",
    "    if periodic:\n",
    "        us[:,0] = us[:,-2]\n",
    "        us[:,-1] = us[:,1]\n",
    "        \n",
    "    avg, slope = G.dot(us)[[0,1]]\n",
    "    \n",
    "    # The two comes from the domain of Legendre polys\n",
    "    slope *= 2.0/h\n",
    "    u = u.reshape((-1,order+1))\n",
    "    \n",
    "    h2 = h/2.0\n",
    "    m = minmod(slope[1:-1],\n",
    "               (avg[2:]-avg[1:-1])/h2,\n",
    "               (avg[1:-1]-avg[:-2])/h2)\n",
    "    \n",
    "    # xq has shape (n_elem, n_dof_per_elem)\n",
    "    # This is why the rest of the arrays need to use newaxis\n",
    "    if periodic:\n",
    "        u[1:-1] = avg[1:-1,newaxis]+(xq-x0[:,newaxis])*m[:,newaxis]\n",
    "    else:\n",
    "        u[1:-1] = avg[1:-1,newaxis]+(xq-x0[:,newaxis])[1:-1]*m[:,newaxis]\n",
    "    \n",
    "    if periodic:\n",
    "        U[:] = u[1:-1].reshape(U.shape)\n",
    "        \n",
    "def apply_limiter(u):\n",
    "    slope_limit(u[:,0])\n",
    "    slope_limit(u[:,1])\n",
    "    slope_limit(u[:,2])\n",
    "\n",
    "def set_bc(u):\n",
    "    if not periodic:\n",
    "        u[[0,-1],:] = u0[[0,-1],:]"
   ]
  },
  {
   "cell_type": "code",
   "execution_count": null,
   "metadata": {
    "collapsed": false
   },
   "outputs": [],
   "source": [
    "# # Integrate with RK4\n",
    "# u  = u0.copy()\n",
    "# f0 = calc_flux(u0[[0,-1],:])*0\n",
    "# lambda_max = np.max(calc_eig(u0))\n",
    "\n",
    "# FLUX = AVG+(lambda_max/2.0)*JUMP\n",
    "# F = Binv.dot(-C+R.dot(SD.dot(FD-FLUX)))\n",
    "# g = lambda u: F.dot(calc_flux(u))\n",
    "    \n",
    "# meig = np.zeros(nt)\n",
    "\n",
    "# for k in range(nt):\n",
    "        \n",
    "#     lambda_max = np.max(calc_eig(u))\n",
    "#     dt = CFL*dx/lambda_max\n",
    "    \n",
    "#     FLUX = AVG+(lambda_max/2.0)*JUMP\n",
    "#     F = Binv.dot(-C+R.dot(SD.dot(FD-FLUX)))\n",
    "#     g = lambda u: F.dot(calc_flux(u))\n",
    "        \n",
    "#     k1 = g(u)\n",
    "#     k1[[0,-1],:] = f0\n",
    "#     apply_limiter(k1)\n",
    "    \n",
    "#     k2 = g(u+(dt/2.0)*k1)\n",
    "#     k2[[0,-1],:] = f0\n",
    "#     apply_limiter(k2)\n",
    "    \n",
    "#     k3 = g(u+(dt/2.0)*k2)\n",
    "#     k3[[0,-1],:] = f0\n",
    "#     apply_limiter(k3)\n",
    "    \n",
    "#     k4 = g(u+dt*k3)\n",
    "#     k4[[0,-1],:] = f0\n",
    "#     apply_limiter(k4)\n",
    "    \n",
    "#     u = u+(dt/6.0)*(k1+2*k2+2*k3+k4)\n",
    "#     u[[0,-1],:] = u0[[0,-1],:]\n",
    "#     apply_limiter(u)\n",
    "\n",
    "#     meig[k] = np.max(calc_eig(u))"
   ]
  },
  {
   "cell_type": "code",
   "execution_count": null,
   "metadata": {
    "collapsed": true
   },
   "outputs": [],
   "source": [
    "nt = 150\n",
    "CFL = 0.5"
   ]
  },
  {
   "cell_type": "code",
   "execution_count": null,
   "metadata": {
    "collapsed": false
   },
   "outputs": [],
   "source": [
    "# Integrate with SSP-RK3\n",
    "u  = u0.copy()\n",
    "f0 = calc_flux(u0[[0,-1],:])\n",
    "lambda_max = np.max(calc_eig(u0))\n",
    "\n",
    "FLUX = AVG+(lambda_max/2.0)*JUMP\n",
    "F = Binv.dot(-C+R.dot(SD.dot(FD-FLUX)))\n",
    "g = lambda u: F.dot(calc_flux(u))\n",
    "    \n",
    "meig = np.zeros(nt)\n",
    "\n",
    "for k in range(nt):\n",
    "        \n",
    "    lambda_max = np.max(calc_eig(u))\n",
    "    dt = CFL*dx/lambda_max\n",
    "    \n",
    "    FLUX = AVG+(lambda_max/2.0)*JUMP\n",
    "    F = Binv.dot(-C+R.dot(SD.dot(FD-FLUX)))\n",
    "    g = lambda u: F.dot(calc_flux(u))\n",
    "        \n",
    "    v1 = u+dt*g(u)\n",
    "    set_bc(v1)\n",
    "    apply_limiter(v1)\n",
    "    \n",
    "    v2 = .25*(3*u+v1+dt*g(v1))\n",
    "    set_bc(v2)\n",
    "    apply_limiter(v2)\n",
    "    \n",
    "    u = (u+2*v2+2*dt*g(v2))/3.0\n",
    "    set_bc(u)\n",
    "    apply_limiter(u)\n",
    "\n",
    "    meig[k] = np.max(calc_eig(u))"
   ]
  },
  {
   "cell_type": "code",
   "execution_count": null,
   "metadata": {
    "collapsed": false
   },
   "outputs": [],
   "source": [
    "k = -1 if periodic else n_dofs\n",
    "\n",
    "plt.figure()\n",
    "plt.plot(dof_phys[:k], u[:,0][:k])\n",
    "plt.plot(dof_phys[:k], ue[:,0][:k], 'g--')\n",
    "plt.ylabel('$\\\\rho$', size=16)\n",
    "\n",
    "plt.figure()\n",
    "plt.plot(dof_phys[:k], u[:,1][:k])\n",
    "plt.plot(dof_phys[:k], ue[:,1][:k], 'g--')\n",
    "plt.ylabel('$u$', size=16)\n",
    "\n",
    "# plt.figure()\n",
    "# plt.plot(dof_phys[:k], u[:,2][:k])\n",
    "# plt.plot(dof_phys[:k], ue[:,2][:k], 'g--')\n",
    "# plt.ylabel('$E$', size=16)"
   ]
  },
  {
   "cell_type": "code",
   "execution_count": null,
   "metadata": {
    "collapsed": false
   },
   "outputs": [],
   "source": [
    "np.sum(CFL*dx/meig)*np.max(meig)"
   ]
  },
  {
   "cell_type": "code",
   "execution_count": null,
   "metadata": {
    "collapsed": false
   },
   "outputs": [],
   "source": [
    "plt.plot(CFL*dx/meig)"
   ]
  },
  {
   "cell_type": "code",
   "execution_count": null,
   "metadata": {
    "collapsed": true
   },
   "outputs": [],
   "source": []
  }
 ],
 "metadata": {
  "kernelspec": {
   "display_name": "Python 2",
   "language": "python",
   "name": "python2"
  },
  "language_info": {
   "codemirror_mode": {
    "name": "ipython",
    "version": 2
   },
   "file_extension": ".py",
   "mimetype": "text/x-python",
   "name": "python",
   "nbconvert_exporter": "python",
   "pygments_lexer": "ipython2",
   "version": "2.7.11+"
  }
 },
 "nbformat": 4,
 "nbformat_minor": 0
}
