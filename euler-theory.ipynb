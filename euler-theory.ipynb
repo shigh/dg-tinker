{
 "cells": [
  {
   "cell_type": "code",
   "execution_count": null,
   "metadata": {
    "collapsed": true
   },
   "outputs": [],
   "source": [
    "%matplotlib inline"
   ]
  },
  {
   "cell_type": "code",
   "execution_count": null,
   "metadata": {
    "collapsed": true
   },
   "outputs": [],
   "source": [
    "import numpy as np\n",
    "import matplotlib.pyplot as plt\n",
    "import sympy as sym\n",
    "sym.init_printing(pretty_print=True)"
   ]
  },
  {
   "cell_type": "code",
   "execution_count": null,
   "metadata": {
    "collapsed": true
   },
   "outputs": [],
   "source": [
    "from sympy.abc import rho, u, E, gamma"
   ]
  },
  {
   "cell_type": "markdown",
   "metadata": {},
   "source": [
    "* $q_1 = \\rho$\n",
    "* $q_2 = \\rho u$\n",
    "* $q_3 = E$\n",
    "* $p=(\\gamma-1)\\left(E-\\frac{1}{2}\\rho u^2\\right)$\n",
    "* $c=\\sqrt{\\frac{\\gamma p}{\\rho}}$"
   ]
  },
  {
   "cell_type": "code",
   "execution_count": null,
   "metadata": {
    "collapsed": false
   },
   "outputs": [],
   "source": [
    "q1, q2, q3 = sym.symbols(\"q_1, q_2, q_3\")\n",
    "p = (gamma-1)*(q3-q2**2/q1/2)\n",
    "p"
   ]
  },
  {
   "cell_type": "code",
   "execution_count": null,
   "metadata": {
    "collapsed": false
   },
   "outputs": [],
   "source": [
    "q = [q1, q2, q3]\n",
    "f = [q2, q2**2/q1+p, (q3+p)*q2/q1]\n",
    "\n"
   ]
  },
  {
   "cell_type": "code",
   "execution_count": null,
   "metadata": {
    "collapsed": false
   },
   "outputs": [],
   "source": [
    "J = [[sym.diff(fe, qe) for qe in q]\n",
    "      for fe in f]\n",
    "J = sym.Matrix(J)"
   ]
  },
  {
   "cell_type": "code",
   "execution_count": null,
   "metadata": {
    "collapsed": false
   },
   "outputs": [],
   "source": [
    "eigvals = J.eigenvals().keys()\n",
    "eigvals"
   ]
  },
  {
   "cell_type": "code",
   "execution_count": null,
   "metadata": {
    "collapsed": false
   },
   "outputs": [],
   "source": [
    "# Can write the max eigenvalue as\n",
    "max_eig = q2/q1+sym.sqrt(gamma*p/q1)\n",
    "# Sympy does not work out the equivalence, \n",
    "# but it can be done easily by hand.\n",
    "# The q2/q1 term should be abs (b.c. of +- in eigvals)\n",
    "max_eig"
   ]
  },
  {
   "cell_type": "markdown",
   "metadata": {},
   "source": [
    "### Check the eigenvalues on Sod's shock tube"
   ]
  },
  {
   "cell_type": "code",
   "execution_count": null,
   "metadata": {
    "collapsed": false
   },
   "outputs": [],
   "source": [
    "xa = np.linspace(0.0, 1.0,100)\n",
    "\n",
    "u0 = np.zeros((len(xa), 3))\n",
    "u0[:,0] = 1.0\n",
    "u0[:,0][xa>=0.5] = 0.125\n",
    "u0[:,1] = 0.0\n",
    "u0[:,2] = 1.0\n",
    "u0[:,2][xa>=0.5] = 0.1\n",
    "u0[:,2] /= (7.0/5.0-1)"
   ]
  },
  {
   "cell_type": "code",
   "execution_count": null,
   "metadata": {
    "collapsed": false
   },
   "outputs": [],
   "source": [
    "feigs = sym.lambdify((q1, q2, q3, gamma), eigvals, modules=\"numpy\")\n",
    "\n",
    "e = np.array(feigs(u0[:,0],u0[:,1],u0[:,2],7.0/5.0))\n",
    "plt.plot(np.max(np.abs(e), axis=0))"
   ]
  },
  {
   "cell_type": "code",
   "execution_count": null,
   "metadata": {
    "collapsed": false
   },
   "outputs": [],
   "source": [
    "plt.plot(e[0])\n",
    "plt.plot(e[1])\n",
    "plt.plot(e[2])"
   ]
  },
  {
   "cell_type": "code",
   "execution_count": null,
   "metadata": {
    "collapsed": false
   },
   "outputs": [],
   "source": [
    "plt.plot(u0)"
   ]
  },
  {
   "cell_type": "code",
   "execution_count": null,
   "metadata": {
    "collapsed": true
   },
   "outputs": [],
   "source": []
  }
 ],
 "metadata": {
  "kernelspec": {
   "display_name": "Python 2",
   "language": "python",
   "name": "python2"
  },
  "language_info": {
   "codemirror_mode": {
    "name": "ipython",
    "version": 2
   },
   "file_extension": ".py",
   "mimetype": "text/x-python",
   "name": "python",
   "nbconvert_exporter": "python",
   "pygments_lexer": "ipython2",
   "version": "2.7.11+"
  }
 },
 "nbformat": 4,
 "nbformat_minor": 0
}
