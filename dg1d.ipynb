{
 "cells": [
  {
   "cell_type": "code",
   "execution_count": null,
   "metadata": {
    "collapsed": true
   },
   "outputs": [],
   "source": [
    "%matplotlib inline"
   ]
  },
  {
   "cell_type": "code",
   "execution_count": null,
   "metadata": {
    "collapsed": true
   },
   "outputs": [],
   "source": [
    "import numpy as np\n",
    "from numpy import newaxis\n",
    "import scipy.sparse as sps\n",
    "from scipy.sparse.linalg import spsolve\n",
    "import matplotlib.pyplot as plt"
   ]
  },
  {
   "cell_type": "code",
   "execution_count": null,
   "metadata": {
    "collapsed": false
   },
   "outputs": [],
   "source": [
    "from pyfem.topo import Interval\n",
    "from pyfem.poly import gll_points\n",
    "from pyfem.sem import SEMhat\n",
    "from pyfem.poly import eval_lagrange_d0 as eval_phi1d"
   ]
  },
  {
   "cell_type": "code",
   "execution_count": null,
   "metadata": {
    "collapsed": false
   },
   "outputs": [],
   "source": [
    "order = 4\n",
    "semh = SEMhat(order)\n",
    "\n",
    "N = 10\n",
    "n_dofs = (order+1)*N"
   ]
  },
  {
   "cell_type": "code",
   "execution_count": null,
   "metadata": {
    "collapsed": false
   },
   "outputs": [],
   "source": [
    "L = 1.0\n",
    "\n",
    "vertices = np.linspace(0, L, N+1)\n",
    "etv      = np.zeros((N, 2), dtype=np.int)\n",
    "etv[:,0] = np.arange(N)\n",
    "etv[:,1] = np.arange(N)+1\n",
    "\n",
    "\n",
    "topo  = Interval()\n",
    "xq = topo.ref_to_phys(vertices[etv], semh.xgll)\n",
    "jacb_det = topo.calc_jacb(vertices[etv])[0]\n",
    "\n",
    "etv[-1,-1] = etv[0,0]\n",
    "jacb_det"
   ]
  },
  {
   "cell_type": "code",
   "execution_count": null,
   "metadata": {
    "collapsed": false
   },
   "outputs": [],
   "source": [
    "# Make elem to dof map\n",
    "etd = np.arange(N*(order+1))\n",
    "etd = etd.reshape((N, -1))\n",
    "\n",
    "#dof_phys = np.unique(xq)[:-1]\n",
    "dof_phys = xq.ravel()\n",
    "\n",
    "# Make Q\n",
    "cols = etd.ravel()\n",
    "rows = np.arange(len(cols))\n",
    "vals = np.ones(len(cols))\n",
    "Q = sps.coo_matrix((vals,(rows,cols)))"
   ]
  },
  {
   "cell_type": "code",
   "execution_count": null,
   "metadata": {
    "collapsed": false
   },
   "outputs": [],
   "source": [
    "# Averaging operator\n",
    "rows = etd[:,[0,-1]].ravel()\n",
    "cols = etv.ravel()\n",
    "vals = np.ones_like(cols)\n",
    "\n",
    "FtoDof = sps.coo_matrix((vals, (rows, cols)),\n",
    "                       shape=(n_dofs,N)).tocsr()\n",
    "AVG = FtoDof.dot(FtoDof.T)/2.0\n",
    "\n",
    "# Extract face DOFS\n",
    "vals = np.ones(len(rows))\n",
    "FDofs = sps.coo_matrix((vals, (rows, rows))).tocsr()\n",
    "vals[::2] = -1\n",
    "SDofs = sps.coo_matrix((vals, (rows, rows))).tocsr()"
   ]
  },
  {
   "cell_type": "code",
   "execution_count": null,
   "metadata": {
    "collapsed": false
   },
   "outputs": [],
   "source": [
    "# Build A and Bl\n",
    "Cl = sps.kron(sps.eye(N), semh.Ch)\n",
    "C  = Q.T.dot(Cl.dot(Q))\n",
    "C  = C.tocsr()\n",
    "\n",
    "# Bl = sps.kron(sps.eye(N), semh.Bh*jacb_det)\n",
    "# B  = Q.T.dot(Bl.dot(Q))\n",
    "# B  = B.tocsr()\n",
    "# Binv_data = 1.0/B.data"
   ]
  },
  {
   "cell_type": "code",
   "execution_count": null,
   "metadata": {
    "collapsed": false
   },
   "outputs": [],
   "source": [
    "# Build full elemental mass matrix\n",
    "x, w = topo.get_quadrature(order+1)\n",
    "P = eval_phi1d(semh.xgll, x).T\n",
    "G = sps.dia_matrix((w, 0), shape=(len(x), len(x)))\n",
    "Bf = P.T.dot(G.dot(P))*jacb_det\n",
    "Bfinv = np.linalg.inv(Bf)\n",
    "\n",
    "Blinv = sps.kron(sps.eye(N), Bfinv)\n",
    "Binv  = Q.T.dot(Blinv.dot(Q))\n",
    "Binv  = Binv.tocsr()"
   ]
  },
  {
   "cell_type": "code",
   "execution_count": null,
   "metadata": {
    "collapsed": true
   },
   "outputs": [],
   "source": [
    "# Time stepping matrix\n",
    "F = Binv.dot(-C+SDofs.dot(FDofs-AVG))"
   ]
  },
  {
   "cell_type": "code",
   "execution_count": null,
   "metadata": {
    "collapsed": false
   },
   "outputs": [],
   "source": [
    "# Problem setup\n",
    "a  = 100.*(dof_phys-.5)**2\n",
    "u0 = np.exp(-a)\n",
    "\n",
    "dt = 0.001\n",
    "nt = int(10.0/dt)\n",
    "nt, dt, nt*dt"
   ]
  },
  {
   "cell_type": "code",
   "execution_count": null,
   "metadata": {
    "collapsed": false
   },
   "outputs": [],
   "source": [
    "# Integrate with AB3\n",
    "ue = u0\n",
    "u  = u0.copy()\n",
    "\n",
    "ca = [[1.0, 0.0, 0.0],\n",
    "      [1.5, -.5, 0.0],\n",
    "      [23./12, -16./12, 5./12]]\n",
    "ca = np.array(ca, dtype=np.double)\n",
    "fa = np.zeros((3, n_dofs))\n",
    "\n",
    "for k in range(nt):\n",
    "        \n",
    "    ic = np.min([k, 2])\n",
    "    fa[0,:] = F.dot(u)\n",
    "    f = ca[ic].dot(fa)\n",
    "    fa[1:,:] = fa[:-1,:]\n",
    "    \n",
    "    u = u+dt*f\n",
    "    \n",
    "u_ab3 = u\n",
    "np.max(np.abs(u-ue))"
   ]
  },
  {
   "cell_type": "code",
   "execution_count": null,
   "metadata": {
    "collapsed": false
   },
   "outputs": [],
   "source": [
    "# Integrate with RK4\n",
    "ue = u0\n",
    "u  = u0.copy()\n",
    "\n",
    "for k in range(nt):\n",
    "    \n",
    "    k1 = F.dot(u)\n",
    "    k2 = F.dot(u+(dt/2.0)*k1)\n",
    "    k3 = F.dot(u+(dt/2.0)*k2)\n",
    "    k4 = F.dot(u+dt*k3)\n",
    "    \n",
    "    u = u+(dt/6.0)*(k1+2*k2+2*k3+k4)\n",
    "    \n",
    "u_rk4 = u\n",
    "np.max(np.abs(u-ue))"
   ]
  },
  {
   "cell_type": "code",
   "execution_count": null,
   "metadata": {
    "collapsed": false
   },
   "outputs": [],
   "source": [
    "plt.plot(dof_phys[:-1], u_ab3[:-1])\n",
    "plt.plot(dof_phys[:-1], u_rk4[:-1])\n",
    "plt.plot(dof_phys[:-1], u0[:-1], 'b--')\n",
    "np.max(np.abs(u_rk4-u_ab3))"
   ]
  },
  {
   "cell_type": "code",
   "execution_count": null,
   "metadata": {
    "collapsed": true
   },
   "outputs": [],
   "source": []
  }
 ],
 "metadata": {
  "kernelspec": {
   "display_name": "Python 2",
   "language": "python",
   "name": "python2"
  },
  "language_info": {
   "codemirror_mode": {
    "name": "ipython",
    "version": 2
   },
   "file_extension": ".py",
   "mimetype": "text/x-python",
   "name": "python",
   "nbconvert_exporter": "python",
   "pygments_lexer": "ipython2",
   "version": "2.7.6"
  }
 },
 "nbformat": 4,
 "nbformat_minor": 0
}
