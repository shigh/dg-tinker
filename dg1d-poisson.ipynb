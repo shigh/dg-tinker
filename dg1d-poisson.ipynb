{
 "cells": [
  {
   "cell_type": "code",
   "execution_count": null,
   "metadata": {
    "collapsed": true
   },
   "outputs": [],
   "source": [
    "%matplotlib inline"
   ]
  },
  {
   "cell_type": "code",
   "execution_count": null,
   "metadata": {
    "collapsed": true
   },
   "outputs": [],
   "source": [
    "import numpy as np\n",
    "from numpy import newaxis\n",
    "import scipy.sparse as sps\n",
    "from scipy.sparse.linalg import spsolve\n",
    "import matplotlib.pyplot as plt"
   ]
  },
  {
   "cell_type": "code",
   "execution_count": null,
   "metadata": {
    "collapsed": false
   },
   "outputs": [],
   "source": [
    "from pyfem.topo import Interval\n",
    "from pyfem.poly import gll_points\n",
    "from pyfem.sem import SEMhat\n",
    "from pyfem.poly import eval_lagrange_d0 as eval_phi1d"
   ]
  },
  {
   "cell_type": "code",
   "execution_count": null,
   "metadata": {
    "collapsed": false
   },
   "outputs": [],
   "source": [
    "from poly import eval_P"
   ]
  },
  {
   "cell_type": "code",
   "execution_count": null,
   "metadata": {
    "collapsed": false
   },
   "outputs": [],
   "source": [
    "order = 3\n",
    "semh = SEMhat(order)\n",
    "\n",
    "N = 30\n",
    "n_dofs = (order+1)*N"
   ]
  },
  {
   "cell_type": "code",
   "execution_count": null,
   "metadata": {
    "collapsed": false
   },
   "outputs": [],
   "source": [
    "L = 1.0\n",
    "\n",
    "vertices  = np.linspace(0, L, N+1)\n",
    "EtoV      = np.zeros((N, 2), dtype=np.int)\n",
    "EtoV[:,0] = np.arange(N)\n",
    "EtoV[:,1] = np.arange(N)+1\n",
    "\n",
    "topo  = Interval()\n",
    "xq = topo.ref_to_phys(vertices[EtoV], semh.xgll)\n",
    "jacb_det = topo.calc_jacb(vertices[EtoV])[0]\n",
    "\n",
    "EtoV[-1,-1] = EtoV[0,0]\n",
    "jacb_det"
   ]
  },
  {
   "cell_type": "code",
   "execution_count": null,
   "metadata": {
    "collapsed": false
   },
   "outputs": [],
   "source": [
    "# Make elem to dof map\n",
    "EtoD = np.arange(N*(order+1))\n",
    "EtoD = EtoD.reshape((N, -1))\n",
    "\n",
    "dof_phys = xq.ravel()\n",
    "\n",
    "# Averaging operator\n",
    "rows = EtoD[:,[0,-1]].ravel()\n",
    "cols = EtoV.ravel()\n",
    "vals = np.ones_like(cols)\n",
    "\n",
    "FtoD = sps.coo_matrix((vals, (rows, cols)),\n",
    "                       shape=(n_dofs,N)).tocsr()\n",
    "AVG = FtoD.dot(FtoD.T)/2.0\n",
    "\n",
    "# Extract face DOFS\n",
    "vals = np.ones(len(rows))\n",
    "FD = sps.coo_matrix((vals, (rows, rows))).tocsr()\n",
    "# Set face signs\n",
    "vals[::2] = -1\n",
    "SD = sps.coo_matrix((vals, (rows, rows))).tocsr()\n",
    "\n",
    "# Jump operator\n",
    "JUMP = FtoD.dot(SD.dot(FtoD).T)"
   ]
  },
  {
   "cell_type": "code",
   "execution_count": null,
   "metadata": {
    "collapsed": false
   },
   "outputs": [],
   "source": [
    "# Build Advection operator\n",
    "S = sps.kron(sps.eye(N), semh.Ch).tocsr()\n",
    "\n",
    "# Differentiation matrix\n",
    "Dr = sps.kron(sps.eye(N), semh.Dh)/jacb_det\n",
    "Dr = Dr.tocsr()\n",
    "\n",
    "# Build full elemental mass matrix\n",
    "x, w = topo.get_quadrature(order+1)\n",
    "P = eval_phi1d(semh.xgll, x).T\n",
    "G = sps.dia_matrix((w, 0), shape=(len(x), len(x)))\n",
    "Bf = P.T.dot(G.dot(P))*jacb_det\n",
    "Bfinv = np.linalg.inv(Bf)\n",
    "B = sps.kron(sps.eye(N), Bf)\n",
    "\n",
    "# Using trick from book\n",
    "V = eval_P(order, semh.xgll).T\n",
    "Minv = V.dot(V.T)/jacb_det\n",
    "Binv = sps.kron(sps.eye(N), Minv).tocsr()"
   ]
  },
  {
   "cell_type": "code",
   "execution_count": null,
   "metadata": {
    "collapsed": true
   },
   "outputs": [],
   "source": [
    "tau = 1.0"
   ]
  },
  {
   "cell_type": "code",
   "execution_count": null,
   "metadata": {
    "collapsed": false
   },
   "outputs": [],
   "source": [
    "FLUXU = AVG\n",
    "Q = Dr-Binv.dot(SD.dot(FD-FLUXU))\n",
    "FLUXQ = AVG.dot(Q)-tau*JUMP \n",
    "A = S.dot(Q)-SD.dot(FD.dot(Q)-FLUXQ)"
   ]
  },
  {
   "cell_type": "code",
   "execution_count": null,
   "metadata": {
    "collapsed": true
   },
   "outputs": [],
   "source": [
    "def func(x):\n",
    "    return -np.sin(2*np.pi*x)*(2*np.pi)**2\n",
    "\n",
    "def exact(x):\n",
    "    return np.sin(2*np.pi*x)    "
   ]
  },
  {
   "cell_type": "code",
   "execution_count": null,
   "metadata": {
    "collapsed": false
   },
   "outputs": [],
   "source": [
    "rhs = B.dot(func(dof_phys))\n",
    "sol = sps.linalg.spsolve(A, rhs)\n",
    "sol -= np.mean(sol)\n",
    "plt.plot(dof_phys, sol)\n",
    "plt.plot(dof_phys, exact(dof_phys))"
   ]
  },
  {
   "cell_type": "code",
   "execution_count": null,
   "metadata": {
    "collapsed": false
   },
   "outputs": [],
   "source": [
    "err = sol-exact(dof_phys)\n",
    "L2_err = np.sqrt(err.dot(B.dot(err)))\n",
    "L2_err, np.max(np.abs(err))"
   ]
  },
  {
   "cell_type": "code",
   "execution_count": null,
   "metadata": {
    "collapsed": true
   },
   "outputs": [],
   "source": [
    "# #errs = {}\n",
    "\n",
    "# errs[N] = L2_err\n",
    "\n",
    "# ka = sorted(errs.keys())\n",
    "# va = [errs[i] for i in ka]\n",
    "# plt.loglog(ka, va)\n",
    "\n",
    "# if len(va)>1:\n",
    "#     print np.log2(va[-1]/va[-2])"
   ]
  },
  {
   "cell_type": "code",
   "execution_count": null,
   "metadata": {
    "collapsed": true
   },
   "outputs": [],
   "source": []
  }
 ],
 "metadata": {
  "kernelspec": {
   "display_name": "Python 2",
   "language": "python",
   "name": "python2"
  },
  "language_info": {
   "codemirror_mode": {
    "name": "ipython",
    "version": 2
   },
   "file_extension": ".py",
   "mimetype": "text/x-python",
   "name": "python",
   "nbconvert_exporter": "python",
   "pygments_lexer": "ipython2",
   "version": "2.7.11+"
  }
 },
 "nbformat": 4,
 "nbformat_minor": 0
}
