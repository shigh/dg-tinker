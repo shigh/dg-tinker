{
 "cells": [
  {
   "cell_type": "code",
   "execution_count": null,
   "metadata": {
    "collapsed": true
   },
   "outputs": [],
   "source": [
    "%matplotlib inline"
   ]
  },
  {
   "cell_type": "code",
   "execution_count": null,
   "metadata": {
    "collapsed": true
   },
   "outputs": [],
   "source": [
    "import numpy as np\n",
    "from numpy import newaxis\n",
    "import scipy.sparse as sps\n",
    "from scipy.sparse.linalg import spsolve\n",
    "import matplotlib.pyplot as plt"
   ]
  },
  {
   "cell_type": "code",
   "execution_count": null,
   "metadata": {
    "collapsed": false
   },
   "outputs": [],
   "source": [
    "from pyfem.topo import Interval\n",
    "from pyfem.poly import gll_points\n",
    "from pyfem.sem import SEMhat\n",
    "from pyfem.poly import eval_lagrange_d0 as eval_phi1d"
   ]
  },
  {
   "cell_type": "code",
   "execution_count": null,
   "metadata": {
    "collapsed": false
   },
   "outputs": [],
   "source": [
    "from poly import eval_P"
   ]
  },
  {
   "cell_type": "code",
   "execution_count": null,
   "metadata": {
    "collapsed": false
   },
   "outputs": [],
   "source": [
    "order = 2\n",
    "semh = SEMhat(order)\n",
    "\n",
    "N = 10\n",
    "n_dofs = (order+1)*N"
   ]
  },
  {
   "cell_type": "code",
   "execution_count": null,
   "metadata": {
    "collapsed": false
   },
   "outputs": [],
   "source": [
    "vertices  = np.linspace(-1, 1, N+1)\n",
    "EtoV      = np.zeros((N, 2), dtype=np.int)\n",
    "EtoV[:,0] = np.arange(N)\n",
    "EtoV[:,1] = np.arange(N)+1\n",
    "\n",
    "topo  = Interval()\n",
    "xq = topo.ref_to_phys(vertices[EtoV], semh.xgll)\n",
    "jacb_det = topo.calc_jacb(vertices[EtoV])[0]\n",
    "\n",
    "EtoV[-1,-1] = EtoV[0,0]\n",
    "jacb_det"
   ]
  },
  {
   "cell_type": "code",
   "execution_count": null,
   "metadata": {
    "collapsed": false
   },
   "outputs": [],
   "source": [
    "# Make elem to dof map\n",
    "EtoD = np.arange(N*(order+1))\n",
    "EtoD = EtoD.reshape((N, -1))\n",
    "\n",
    "dof_phys = xq.ravel()\n",
    "\n",
    "# Averaging operator\n",
    "rows = EtoD[:,[0,-1]].ravel()\n",
    "cols = EtoV.ravel()\n",
    "vals = np.ones_like(cols)\n",
    "\n",
    "FtoD = sps.coo_matrix((vals, (rows, cols)),\n",
    "                       shape=(n_dofs,N)).tocsr()\n",
    "AVG = FtoD.dot(FtoD.T)/2.0\n",
    "\n",
    "# Extract face DOFS\n",
    "vals = np.ones(len(rows))\n",
    "FD = sps.coo_matrix((vals, (rows, rows))).tocsr()\n",
    "# Set face signs\n",
    "vals[::2] = -1\n",
    "SD = sps.coo_matrix((vals, (rows, rows))).tocsr()\n",
    "\n",
    "# Jump operator\n",
    "JUMP = FtoD.dot(SD.dot(FtoD).T)\n",
    "\n",
    "# Differentiation matrix\n",
    "D = sps.kron(sps.eye(N), semh.Dh)/jacb_det"
   ]
  },
  {
   "cell_type": "code",
   "execution_count": null,
   "metadata": {
    "collapsed": false
   },
   "outputs": [],
   "source": [
    "# Build Advection operator\n",
    "C = sps.kron(sps.eye(N), semh.Ch).tocsr()\n",
    "\n",
    "# Build full elemental mass matrix\n",
    "x, w = topo.get_quadrature(order+1)\n",
    "P = eval_phi1d(semh.xgll, x).T\n",
    "G = sps.dia_matrix((w, 0), shape=(len(x), len(x)))\n",
    "Bf = P.T.dot(G.dot(P))*jacb_det\n",
    "Bfinv = np.linalg.inv(Bf)\n",
    "\n",
    "# Using trick from book\n",
    "V = eval_P(order, semh.xgll).T\n",
    "Minv = V.dot(V.T)/jacb_det\n",
    "Binv = sps.kron(sps.eye(N), Minv).tocsr()\n",
    "\n",
    "print np.max(np.abs(Minv-Bfinv))\n",
    "print np.max(np.abs(Minv.dot(Bf)-np.eye(Bf.shape[0])))\n",
    "print np.max(np.abs(Bfinv.dot(Bf)-np.eye(Bf.shape[0])))"
   ]
  },
  {
   "cell_type": "code",
   "execution_count": null,
   "metadata": {
    "collapsed": true
   },
   "outputs": [],
   "source": [
    "# Time stepping function\n",
    "\n",
    "# Assume that epsilon=mu=1.0 everywhere\n",
    "def eval_F(EH):\n",
    "    \n",
    "    E = EH[0,:]\n",
    "    H = EH[1,:]\n",
    "    \n",
    "    # Compute flux\n",
    "    Hs = AVG.dot(H)+JUMP.dot(E)/2.0\n",
    "    Es = AVG.dot(E)+JUMP.dot(H)/2.0\n",
    "    \n",
    "    Hf = SD.dot(FD.dot(H)-Hs)\n",
    "    Ef = SD.dot(FD.dot(E)-Es)\n",
    "    \n",
    "    Er = -D.dot(H)+Binv.dot(Hf)\n",
    "    Hr = -D.dot(E)+Binv.dot(Ef)\n",
    "    \n",
    "    res = np.zeros_like(EH)\n",
    "    res[0,:] = Er\n",
    "    res[1,:] = Hr\n",
    "    \n",
    "    return res\n",
    "    "
   ]
  },
  {
   "cell_type": "code",
   "execution_count": null,
   "metadata": {
    "collapsed": true
   },
   "outputs": [],
   "source": [
    "# Problem setup\n",
    "a  = 1000.*(dof_phys-.5)**2\n",
    "u0 = np.exp(-a)\n",
    "\n",
    "k     = 2*np.pi\n",
    "l     = 2*np.pi/k\n",
    "omega = 2*np.pi/l\n",
    "E0 = np.sin(k*dof_phys)\n",
    "H0 = np.sin(k*dof_phys)\n",
    "EH0 = np.zeros((2, len(E0)))\n",
    "EH0[0,:] = E0\n",
    "EH0[1,:] = H0"
   ]
  },
  {
   "cell_type": "code",
   "execution_count": null,
   "metadata": {
    "collapsed": false
   },
   "outputs": [],
   "source": [
    "CFL = 0.75\n",
    "xa = np.unique(dof_phys)\n",
    "dx = np.min(xa[1:]-xa[:-1])\n",
    "dt = CFL*dx\n",
    "dt = 0.25*dx # safety factor\n",
    "\n",
    "T = 10.0\n",
    "nt = int(np.ceil(T/dt))\n",
    "assert T/nt<=dt\n",
    "dt = T/nt\n",
    "\n",
    "nt, \"%.2e\"%dt, nt*dt"
   ]
  },
  {
   "cell_type": "code",
   "execution_count": null,
   "metadata": {
    "collapsed": false
   },
   "outputs": [],
   "source": [
    "# Integrate with RK4\n",
    "ue = -np.sin(omega*T-dof_phys*k)\n",
    "u  = EH0.copy()\n",
    "\n",
    "for i in range(nt):\n",
    "    \n",
    "    k1 = eval_F(u)\n",
    "    k2 = eval_F(u+(dt/2.0)*k1)\n",
    "    k3 = eval_F(u+(dt/2.0)*k2)\n",
    "    k4 = eval_F(u+dt*k3)\n",
    "    \n",
    "    u = u+(dt/6.0)*(k1+2*k2+2*k3+k4)\n",
    "    \n",
    "u_rk4 = u\n",
    "np.max(np.abs(u-ue))"
   ]
  },
  {
   "cell_type": "code",
   "execution_count": null,
   "metadata": {
    "collapsed": false
   },
   "outputs": [],
   "source": [
    "plt.plot(dof_phys, u_rk4[0])\n",
    "plt.plot(dof_phys, ue, 'g--')\n",
    "plt.figure()\n",
    "plt.plot(dof_phys, u_rk4[1])\n",
    "plt.plot(dof_phys, ue, 'g--')"
   ]
  },
  {
   "cell_type": "code",
   "execution_count": null,
   "metadata": {
    "collapsed": true
   },
   "outputs": [],
   "source": []
  }
 ],
 "metadata": {
  "kernelspec": {
   "display_name": "Python 2",
   "language": "python",
   "name": "python2"
  },
  "language_info": {
   "codemirror_mode": {
    "name": "ipython",
    "version": 2
   },
   "file_extension": ".py",
   "mimetype": "text/x-python",
   "name": "python",
   "nbconvert_exporter": "python",
   "pygments_lexer": "ipython2",
   "version": "2.7.6"
  }
 },
 "nbformat": 4,
 "nbformat_minor": 0
}
