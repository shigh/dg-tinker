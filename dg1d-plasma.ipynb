{
 "cells": [
  {
   "cell_type": "code",
   "execution_count": null,
   "metadata": {
    "collapsed": true
   },
   "outputs": [],
   "source": [
    "%matplotlib inline"
   ]
  },
  {
   "cell_type": "code",
   "execution_count": null,
   "metadata": {
    "collapsed": true
   },
   "outputs": [],
   "source": [
    "import numpy as np\n",
    "from numpy import newaxis\n",
    "import scipy.sparse as sps\n",
    "from scipy.sparse.linalg import spsolve\n",
    "import matplotlib.pyplot as plt"
   ]
  },
  {
   "cell_type": "code",
   "execution_count": null,
   "metadata": {
    "collapsed": false
   },
   "outputs": [],
   "source": [
    "from pyfem.topo import Interval\n",
    "from pyfem.poly import gll_points\n",
    "from pyfem.sem import SEMhat\n",
    "from pyfem.poly import eval_lagrange_d0 as eval_phi1d"
   ]
  },
  {
   "cell_type": "code",
   "execution_count": null,
   "metadata": {
    "collapsed": false
   },
   "outputs": [],
   "source": [
    "from poly import eval_P\n",
    "from utils import minmod"
   ]
  },
  {
   "cell_type": "markdown",
   "metadata": {},
   "source": [
    "## Build Mesh and Operators"
   ]
  },
  {
   "cell_type": "code",
   "execution_count": null,
   "metadata": {
    "collapsed": false
   },
   "outputs": [],
   "source": [
    "order = 1\n",
    "periodic = True\n",
    "semh = SEMhat(order)\n",
    "\n",
    "N = 100\n",
    "n_dofs = (order+1)*N\n",
    "\n",
    "do_filter  = False"
   ]
  },
  {
   "cell_type": "code",
   "execution_count": null,
   "metadata": {
    "collapsed": false
   },
   "outputs": [],
   "source": [
    "L = 1.0\n",
    "\n",
    "vertices  = np.linspace(0, L, N+1)\n",
    "EtoV      = np.zeros((N, 2), dtype=np.int)\n",
    "EtoV[:,0] = np.arange(N)\n",
    "EtoV[:,1] = np.arange(N)+1\n",
    "\n",
    "topo  = Interval()\n",
    "xq = topo.ref_to_phys(vertices[EtoV], semh.xgll)\n",
    "jacb_det = topo.calc_jacb(vertices[EtoV])[0]\n",
    "dx = np.min(xq[0,1:]-xq[0,:-1])\n",
    "\n",
    "if periodic:\n",
    "    EtoV[-1,-1] = EtoV[0,0]\n",
    "\n",
    "# Restriction operator\n",
    "# Removes contribution to dirch points from flux operators\n",
    "R = sps.eye(n_dofs).tocsr()\n",
    "if not periodic:\n",
    "    R[0,0] = R[-1,-1] = 0.0"
   ]
  },
  {
   "cell_type": "code",
   "execution_count": null,
   "metadata": {
    "collapsed": false
   },
   "outputs": [],
   "source": [
    "# Make elem to dof map\n",
    "EtoD = np.arange(N*(order+1))\n",
    "EtoD = EtoD.reshape((N, -1))\n",
    "\n",
    "dof_phys = xq.ravel()\n",
    "\n",
    "# Averaging operator\n",
    "rows = EtoD[:,[0,-1]].ravel()\n",
    "cols = EtoV.ravel()\n",
    "vals = np.ones_like(cols)\n",
    "\n",
    "FtoD = sps.coo_matrix((vals, (rows, cols))).tocsr()\n",
    "AVG = FtoD.dot(FtoD.T)/2.0\n",
    "\n",
    "# Extract face DOFS\n",
    "vals = np.ones(len(rows))\n",
    "FD = sps.coo_matrix((vals, (rows, rows))).tocsr()\n",
    "# Set face signs\n",
    "vals[::2] = -1\n",
    "SD = sps.coo_matrix((vals, (rows, rows))).tocsr()\n",
    "\n",
    "# Jump operator\n",
    "JUMP = FtoD.dot(SD.dot(FtoD).T)"
   ]
  },
  {
   "cell_type": "code",
   "execution_count": null,
   "metadata": {
    "collapsed": false
   },
   "outputs": [],
   "source": [
    "# Build Advection operator\n",
    "S = sps.kron(sps.eye(N), semh.Ch).tocsr()\n",
    "\n",
    "# Differentiation matrix\n",
    "Dr = sps.kron(sps.eye(N), semh.Dh)/jacb_det\n",
    "Dr = Dr.tocsr()\n",
    "\n",
    "# Build full elemental mass matrix\n",
    "x, w = topo.get_quadrature(order+1)\n",
    "P = eval_phi1d(semh.xgll, x).T\n",
    "G = sps.dia_matrix((w, 0), shape=(len(x), len(x)))\n",
    "Bf = P.T.dot(G.dot(P))*jacb_det\n",
    "Bfinv = np.linalg.inv(Bf)\n",
    "B = sps.kron(sps.eye(N), Bf)\n",
    "\n",
    "# Using trick from book\n",
    "V    = eval_P(order, semh.xgll).T\n",
    "Vinv = np.linalg.inv(V)\n",
    "Minv = V.dot(V.T)/jacb_det\n",
    "Binv = sps.kron(sps.eye(N), Minv).tocsr()"
   ]
  },
  {
   "cell_type": "code",
   "execution_count": null,
   "metadata": {
    "collapsed": true
   },
   "outputs": [],
   "source": [
    "# Build Poisson matrix\n",
    "tau = 1.0\n",
    "\n",
    "FLUXU = AVG\n",
    "Q = Dr-Binv.dot(SD.dot(FD-FLUXU))\n",
    "FLUXQ = AVG.dot(Q)-tau*JUMP \n",
    "A = S.dot(Q)-SD.dot(FD.dot(Q)-FLUXQ)\n",
    "A = -A"
   ]
  },
  {
   "cell_type": "markdown",
   "metadata": {},
   "source": [
    "## Problem Setup"
   ]
  },
  {
   "cell_type": "code",
   "execution_count": null,
   "metadata": {
    "collapsed": false
   },
   "outputs": [],
   "source": [
    "# # Euler -- Sod's Shock Tube\n",
    "\n",
    "# use_filter = False\n",
    "\n",
    "# gamma = 7.0/5.0\n",
    "# def calc_flux(u):\n",
    "    \n",
    "#     f = np.zeros_like(u)\n",
    "#     p = (gamma-1)*(u[:,2]-.5*u[:,1]**2/u[:,0])\n",
    "#     f[:,0] = u[:,1]\n",
    "#     f[:,1] = u[:,1]**2/u[:,0]+p\n",
    "#     f[:,2] = (u[:,2]+p)*u[:,1]/u[:,0]\n",
    "    \n",
    "#     return f\n",
    "\n",
    "# def calc_p(u):\n",
    "#     p = (gamma-1)*(u[:,2]-.5*u[:,1]**2/u[:,0])\n",
    "#     return p\n",
    "\n",
    "# def calc_eig(u):\n",
    "#     p = calc_p(u)\n",
    "#     eig  = np.abs(u[:,1]/u[:,0])\n",
    "#     eig += np.sqrt(gamma*p/u[:,0])\n",
    "#     return eig\n",
    "\n",
    "# # Set up classical Sod's shock tube\n",
    "# u0 = np.zeros((n_dofs, 3))\n",
    "# u0[:,0] = 1.0\n",
    "# u0[:,0][dof_phys>=0.5] = 0.125\n",
    "# u0[:,1] = 0.0\n",
    "# u0[:,2] = 1.0\n",
    "# u0[:,2][dof_phys>=0.5] = 0.1\n",
    "# u0[:,2] /= (gamma-1)\n",
    "# ue = u0.copy()\n",
    "# np.max(calc_eig(u0))"
   ]
  },
  {
   "cell_type": "code",
   "execution_count": null,
   "metadata": {
    "collapsed": false
   },
   "outputs": [],
   "source": [
    "# Isothermal Euler -- Gaussian bump\n",
    "\n",
    "a = 0.0\n",
    "def calc_flux(u):\n",
    "    \n",
    "    f = np.zeros_like(u)\n",
    "    f[:,0] = u[:,1]\n",
    "    f[:,1] = u[:,1]**2/u[:,0]+a*a*u[:,0]\n",
    "    f[:,2] = 0.0\n",
    "    \n",
    "    return f\n",
    "\n",
    "def calc_eig(u):\n",
    "    #return a+np.abs(u[:,1]/u[:,0])\n",
    "    return 1.0\n",
    "    \n",
    "u0 = np.zeros((n_dofs, 3))\n",
    "alpha = 0.01\n",
    "u0[:,0] = 2.0+alpha*np.sin(2*np.pi*dof_phys)\n",
    "wp = np.sqrt(np.mean(u0[:,0]))\n",
    "\n",
    "ue = u0.copy()\n",
    "\n",
    "np.max(calc_eig(u0))"
   ]
  },
  {
   "cell_type": "code",
   "execution_count": null,
   "metadata": {
    "collapsed": true
   },
   "outputs": [],
   "source": [
    "def phie(t):\n",
    "    return alpha*np.sin(2*np.pi*dof_phys)*np.cos(wp*t)/((2*np.pi)**2)\n",
    "\n",
    "def Ee(t):\n",
    "    return -alpha*np.cos(2*np.pi*dof_phys)*np.cos(wp*t)/(2*np.pi)"
   ]
  },
  {
   "cell_type": "code",
   "execution_count": null,
   "metadata": {
    "collapsed": true
   },
   "outputs": [],
   "source": [
    "def set_bc(u):\n",
    "    if not periodic:\n",
    "        u[[0,-1],:] = u0[[0,-1],:]\n",
    "        \n",
    "def apply_limiter(u):\n",
    "    pass"
   ]
  },
  {
   "cell_type": "markdown",
   "metadata": {},
   "source": [
    "## Filter"
   ]
  },
  {
   "cell_type": "code",
   "execution_count": null,
   "metadata": {
    "collapsed": false
   },
   "outputs": [],
   "source": [
    "# Filter\n",
    "ss = 16.0\n",
    "aa  = 36.0\n",
    "eta = np.arange(order+1.0)/order\n",
    "SIG = sps.dia_matrix((np.exp(-aa*eta**ss),0),\n",
    "                    shape=V.shape)\n",
    "FILTER = sps.kron(sps.eye(N), V.dot(SIG.dot(Vinv)))"
   ]
  },
  {
   "cell_type": "markdown",
   "metadata": {},
   "source": [
    "## Compute solution"
   ]
  },
  {
   "cell_type": "code",
   "execution_count": null,
   "metadata": {
    "collapsed": true
   },
   "outputs": [],
   "source": [
    "# Time stepping\n",
    "f0 = calc_flux(u0[[0,-1],:])\n",
    "def g(u):\n",
    "    f = calc_flux(u)\n",
    "    c = np.max(calc_eig(u))\n",
    "    flux = AVG.dot(f)+c/2.0*JUMP.dot(u)\n",
    "    if not periodic:\n",
    "        flux[[0,-1],:] = f0\n",
    "    return Binv.dot(-S.dot(f)+SD.dot(FD.dot(f)-flux))\n",
    "    "
   ]
  },
  {
   "cell_type": "code",
   "execution_count": null,
   "metadata": {
    "collapsed": false
   },
   "outputs": [],
   "source": [
    "# Integrate with SSP-RK3\n",
    "u  = u0.copy()\n",
    "f0 = calc_flux(u0[[0,-1],:])\n",
    "lambda_max = np.max(calc_eig(u0))\n",
    "\n",
    "# One complete oscillation\n",
    "Tfinal = 2*np.pi/wp\n",
    "\n",
    "dt = 0.001\n",
    "nt = int(Tfinal/dt)\n",
    "dt = Tfinal/nt\n",
    "\n",
    "for k in range(nt):\n",
    "    \n",
    "    # Step Euler equations\n",
    "    v1 = u+dt*g(u)\n",
    "    set_bc(v1)\n",
    "    apply_limiter(v1)\n",
    "    \n",
    "    v2 = .25*(3*u+v1+dt*g(v1))\n",
    "    set_bc(v2)\n",
    "    apply_limiter(v2)\n",
    "    \n",
    "    u = (u+2*v2+2*dt*g(v2))/3.0\n",
    "    set_bc(u)\n",
    "    apply_limiter(u)\n",
    "    \n",
    "    # Step field equations\n",
    "    phi = sps.linalg.spsolve(A, B.dot(u[:,0]-np.mean(u[:,0])))\n",
    "    E   = -Dr.dot(phi)\n",
    "    u[:,1] += dt*u[:,0]*E\n",
    "\n",
    "phif = sps.linalg.spsolve(A, B.dot(u[:,0]-np.mean(u[:,0])))\n",
    "Ef   = -Dr.dot(phif)\n",
    "    \n",
    "nt, dt*nt"
   ]
  },
  {
   "cell_type": "code",
   "execution_count": null,
   "metadata": {
    "collapsed": false
   },
   "outputs": [],
   "source": [
    "k = -1 if periodic else n_dofs\n",
    "\n",
    "plt.figure()\n",
    "plt.plot(dof_phys[:k], ue[:,0][:k], 'g--',\n",
    "        label=\"$t=0$\",\n",
    "        linewidth=2)\n",
    "plt.plot(dof_phys[:k], u[:,0][:k],\n",
    "        label=\"$t=2\\pi/\\omega_p$\")\n",
    "plt.ylabel('$\\\\rho$', size=16)\n",
    "plt.xlabel(\"$x$\", size=16)\n",
    "#plt.legend(loc='upper right', fontsize=16)\n",
    "plt.title(\"One complete Langmuir Oscillation\", size=16)\n",
    "plt.savefig(\"langmuir.pdf\")"
   ]
  },
  {
   "cell_type": "code",
   "execution_count": null,
   "metadata": {
    "collapsed": false
   },
   "outputs": [],
   "source": [
    "ps = lambda x:x.reshape((-1,order+1)).T\n",
    "plt.figure()\n",
    "plt.plot(ps(dof_phys), ps(u[:,1]/u[:,0]), 'b')\n",
    "plt.plot(ps(dof_phys), ps(ue[:,1]), 'g--')\n",
    "plt.ylabel('$u$', size=16)\n",
    "\n",
    "# plt.figure()\n",
    "# plt.plot(dof_phys[:k], u[:,2][:k])\n",
    "# plt.plot(dof_phys[:k], ue[:,2][:k], 'g--')\n",
    "# plt.ylabel('$E$', size=16)"
   ]
  },
  {
   "cell_type": "code",
   "execution_count": null,
   "metadata": {
    "collapsed": false
   },
   "outputs": [],
   "source": [
    "plt.plot(ps(dof_phys), ps(phif-np.mean(phif)), 'b');\n",
    "plt.plot(dof_phys, phie(nt*dt), 'g--',\n",
    "        linewidth=2)"
   ]
  },
  {
   "cell_type": "code",
   "execution_count": null,
   "metadata": {
    "collapsed": false
   },
   "outputs": [],
   "source": [
    "plt.plot(ps(dof_phys), ps(Ef), 'b');\n",
    "plt.plot(dof_phys, Ee(nt*dt), 'g--',\n",
    "        linewidth=2)"
   ]
  },
  {
   "cell_type": "code",
   "execution_count": null,
   "metadata": {
    "collapsed": true
   },
   "outputs": [],
   "source": []
  }
 ],
 "metadata": {
  "kernelspec": {
   "display_name": "Python 2",
   "language": "python",
   "name": "python2"
  },
  "language_info": {
   "codemirror_mode": {
    "name": "ipython",
    "version": 2
   },
   "file_extension": ".py",
   "mimetype": "text/x-python",
   "name": "python",
   "nbconvert_exporter": "python",
   "pygments_lexer": "ipython2",
   "version": "2.7.11+"
  }
 },
 "nbformat": 4,
 "nbformat_minor": 0
}
